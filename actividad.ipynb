{
 "cells": [
  {
   "cell_type": "markdown",
   "id": "498731c6",
   "metadata": {},
   "source": [
    "# Actividad - Trabajando con Series de Pandas.\n",
    "## Criterios de evaluación.\n",
    "\n",
    "* Se deben utilizar nombres de variables descriptivos y claros (Utilizar la nomeclatura correspondiente para los nombres de variables).\n",
    "* Comentarios claros y concisos que expliquen el propósito de cada sección del código.\n",
    "* Utilizar mensajes de commit **descriptivos**. (Puedes utilizar la extension CONVENTIONAL COMMIT de VS-CODE). \n",
    "* Entrega en tiempo y forma.\n",
    "* Todo el código desarrollado debe ser subido a un repositorio en GitHub (el nombre del repositorio de seguir la siguiente estructura: actividad_tlp3_nombre_apellido).\n",
    "* Para resolver las actividades se debe insertar casillas de codigo entre cada actividad del cuaderno de Jupyter\n",
    "\n",
    "### ¡Importante!\n",
    "**El incumplimiento de los criterios de evaluación restará puntos en la nota final del práctico!**"
   ]
  },
  {
   "cell_type": "markdown",
   "id": "b361a7b6",
   "metadata": {},
   "source": [
    "### **Actividad 1:** \n",
    "\n",
    "Crear Series desde diferentes estructuras.\n",
    "* Crea una Series con los números del 1 al 5\n",
    "* Crea una Series a partir de un diccionario con nombres de países como claves y sus capitales como valores."
   ]
  },
  {
   "cell_type": "code",
   "execution_count": 5,
   "id": "26009294",
   "metadata": {},
   "outputs": [
    {
     "name": "stdout",
     "output_type": "stream",
     "text": [
      "Serie de numeros:\n",
      "0    1\n",
      "1    2\n",
      "2    3\n",
      "3    4\n",
      "4    5\n",
      "dtype: int64\n",
      "\n",
      "Serie de capitales:\n",
      "Argentina    Buenos Aires\n",
      "Alemania           Berlin\n",
      "España             Madrid\n",
      "Francia             Paris\n",
      "Japon               Tokio\n",
      "dtype: object\n"
     ]
    }
   ],
   "source": [
    "\n",
    "# todo:\n",
    "import pandas as pd\n",
    "\n",
    "# Series con los numeros del 1 al 5\n",
    "serie_numeros = pd.Series([1, 2, 3, 4, 5])\n",
    "print(\"Serie de numeros:\")\n",
    "print(serie_numeros)\n",
    "\n",
    "# Diccionario con paises y capitales\n",
    "capitales = {\n",
    "    'Argentina': 'Buenos Aires',\n",
    "    'Alemania': 'Berlin',\n",
    "    'España': 'Madrid',\n",
    "    'Francia': 'Paris',\n",
    "    'Japon': 'Tokio'\n",
    "}\n",
    "\n",
    "# Series a partir del diccionario\n",
    "serie_capitales = pd.Series(capitales)\n",
    "print(\"\\nSerie de capitales:\")\n",
    "print(serie_capitales)\n",
    "\n"
   ]
  },
  {
   "cell_type": "markdown",
   "id": "0c239195",
   "metadata": {},
   "source": [
    "### **Actividad 2:** \n",
    "Acceso y selección de elementos.\n",
    "* Usa una Series con tareas (que haceres cotidianos) de una semana\n",
    "* Accede a diferentes elementos a elección.\n",
    "* Cambia los valores de los dias pares.\n"
   ]
  },
  {
   "cell_type": "code",
   "execution_count": 13,
   "id": "3611d25a",
   "metadata": {},
   "outputs": [
    {
     "name": "stdout",
     "output_type": "stream",
     "text": [
      "Tareas semanales:\n",
      "Lunes               Hacer compras\n",
      "Martes            Estudiar Python\n",
      "Miercoles         Limpiar la casa\n",
      "Jueves             Ir al gimnasio\n",
      "Viernes      Trabajar en proyecto\n",
      "Sabado           Salir con amigas\n",
      "Domingo                 Descansar\n",
      "dtype: object\n",
      "\n",
      "Tarea del lunes:\n",
      "Hacer compras\n",
      "\n",
      "Tarea del viernes:\n",
      "Trabajar en proyecto\n",
      "\n",
      "Tareas modificadas (martes, jueves y sabado):\n",
      "Lunes                  Hacer compras\n",
      "Martes                 Lavar la ropa\n",
      "Miercoles            Limpiar la casa\n",
      "Jueves               Ordenar papeles\n",
      "Viernes         Trabajar en proyecto\n",
      "Sabado       Hacer compras semanales\n",
      "Domingo                    Descansar\n",
      "dtype: object\n"
     ]
    }
   ],
   "source": [
    "\n",
    "# todo:\n",
    "# Crear una Series con tareas cotidianas\n",
    "tareas = pd.Series({\n",
    "    'Lunes': 'Hacer compras',\n",
    "    'Martes': 'Estudiar Python',\n",
    "    'Miercoles': 'Limpiar la casa',\n",
    "    'Jueves': 'Ir al gimnasio',\n",
    "    'Viernes': 'Trabajar en proyecto',\n",
    "    'Sabado': 'Salir con amigas',\n",
    "    'Domingo': 'Descansar'\n",
    "})\n",
    "\n",
    "# Mostrar la Series\n",
    "print(\"Tareas semanales:\")\n",
    "print(tareas)\n",
    "\n",
    "# Acceder a algunos elementos\n",
    "print(\"\\nTarea del lunes:\")\n",
    "print(tareas['Lunes'])\n",
    "\n",
    "print(\"\\nTarea del viernes:\")\n",
    "print(tareas['Viernes'])\n",
    "\n",
    "# Cambiar las tareas de los dias pares\n",
    "tareas['Martes'] = 'Lavar la ropa'\n",
    "tareas['Jueves'] = 'Ordenar papeles'\n",
    "tareas['Sabado'] = 'Hacer compras semanales'\n",
    "\n",
    "# Mostrar la Series modificada\n",
    "print(\"\\nTareas modificadas (martes, jueves y sabado):\")\n",
    "print(tareas)"
   ]
  },
  {
   "cell_type": "markdown",
   "id": "70a24b97",
   "metadata": {},
   "source": [
    "### **Actividad 3:**\n",
    "Operaciones aritméticas. \n",
    "* Realiza las operaciones basicas con 2 series cuales quieran.\n",
    "* Eleva los valores de la primer serie a 3 potencias difetentes."
   ]
  },
  {
   "cell_type": "code",
   "execution_count": null,
   "id": "a9c8ebc7",
   "metadata": {},
   "outputs": [],
   "source": [
    "\n",
    "# todo:"
   ]
  },
  {
   "cell_type": "markdown",
   "id": "b8dac397",
   "metadata": {},
   "source": [
    "### **Actividad 4:** \n",
    "Filtrado con condiciones.\n",
    "* Crea una Series de edades de 10 personas.\n",
    "* Muestra solo a los mayores de 18.\n",
    "* Reemplaza a los menores por \"Menor de edad\"."
   ]
  },
  {
   "cell_type": "code",
   "execution_count": null,
   "id": "d04fd492",
   "metadata": {},
   "outputs": [],
   "source": [
    "\n",
    "# todo:"
   ]
  },
  {
   "cell_type": "markdown",
   "id": "8889d0f2",
   "metadata": {},
   "source": [
    "### Actividad 5:\n",
    "Estadísticas básicas.\n",
    "\n",
    "* Crea una Series con las notas de 10 estudiantes.\n",
    "* Calcula la media, mediana, desviación estándar y máximo.\n",
    "* Muestra cuántos estudiantes aprobaron si el mínimo para aprobar es 6.\n",
    "* Ordenar las notas de manera ascendente y descendente. "
   ]
  },
  {
   "cell_type": "code",
   "execution_count": null,
   "id": "bc0ec844",
   "metadata": {},
   "outputs": [],
   "source": [
    "\n",
    "# todo:\n"
   ]
  }
 ],
 "metadata": {
  "kernelspec": {
   "display_name": "venv",
   "language": "python",
   "name": "python3"
  },
  "language_info": {
   "codemirror_mode": {
    "name": "ipython",
    "version": 3
   },
   "file_extension": ".py",
   "mimetype": "text/x-python",
   "name": "python",
   "nbconvert_exporter": "python",
   "pygments_lexer": "ipython3",
   "version": "3.12.9"
  }
 },
 "nbformat": 4,
 "nbformat_minor": 5
}
